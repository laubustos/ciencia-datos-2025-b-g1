{
 "cells": [
  {
   "cell_type": "markdown",
   "id": "d125c8ea",
   "metadata": {},
   "source": [
    "# Análisis de Datos de Estudiantes\n",
    "\n",
    "En este notebook vamos a cargar y analizar los datos de puntuaciones de exámenes de estudiantes."
   ]
  },
  {
   "cell_type": "code",
   "execution_count": null,
   "id": "b0b85300",
   "metadata": {},
   "outputs": [],
   "source": [
    "# Importar las librerías necesarias\n",
    "import pandas as pd\n",
    "import numpy as np\n",
    "import matplotlib.pyplot as plt\n"
   ]
  },
  {
   "cell_type": "code",
   "execution_count": null,
   "id": "9cded944",
   "metadata": {},
   "outputs": [],
   "source": [
    "# Cargar el archivo CSV\n",
    "df = pd.read_csv('student_exam_scores.csv')\n",
    "df.head()"
   ]
  },
  {
   "cell_type": "code",
   "execution_count": null,
   "id": "fd300feb",
   "metadata": {},
   "outputs": [],
   "source": [
    "# Gráfica simple entre student_id y sleep_hours\n",
    "plt.plot(df['student_id'], df['sleep_hours'])\n",
    "plt.xlabel('Student ID')\n",
    "plt.ylabel('Sleep Hours')\n",
    "plt.show()"
   ]
  }
 ],
 "metadata": {
  "kernelspec": {
   "display_name": "Python 3",
   "language": "python",
   "name": "python3"
  },
  "language_info": {
   "codemirror_mode": {
    "name": "ipython",
    "version": 3
   },
   "file_extension": ".py",
   "mimetype": "text/x-python",
   "name": "python",
   "nbconvert_exporter": "python",
   "pygments_lexer": "ipython3",
   "version": "3.13.7"
  }
 },
 "nbformat": 4,
 "nbformat_minor": 5
}
