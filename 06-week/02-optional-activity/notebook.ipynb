{
 "cells": [
  {
   "cell_type": "markdown",
   "id": "7133b7b2",
   "metadata": {},
   "source": [
    "# Parte 2 Parcial 1 Ciencia de Datos"
   ]
  },
  {
   "cell_type": "markdown",
   "id": "c332a528",
   "metadata": {},
   "source": [
    "Este caso de análisis aborda la necesidad de calcular y seguir el rendimiento académico de un grupo de estudiantes. El problema radicaba en que, aunque las calificaciones ya estaban registradas en un archivo CSV, obtener las notas definitivas y analizar la evolución de cada alumno de forma manual resultaba lento y propenso a errores. El código desarrollado resolvió este inconveniente al automatizar el cálculo de las notas con sus ponderaciones y generar una visualización gráfica que facilita identificar tendencias en el desempeño académico."
   ]
  },
  {
   "cell_type": "code",
   "execution_count": 40,
   "id": "65169e83",
   "metadata": {},
   "outputs": [
    {
     "data": {
      "text/html": [
       "<div>\n",
       "<style scoped>\n",
       "    .dataframe tbody tr th:only-of-type {\n",
       "        vertical-align: middle;\n",
       "    }\n",
       "\n",
       "    .dataframe tbody tr th {\n",
       "        vertical-align: top;\n",
       "    }\n",
       "\n",
       "    .dataframe thead th {\n",
       "        text-align: right;\n",
       "    }\n",
       "</style>\n",
       "<table border=\"1\" class=\"dataframe\">\n",
       "  <thead>\n",
       "    <tr style=\"text-align: right;\">\n",
       "      <th></th>\n",
       "      <th>estudiante</th>\n",
       "      <th>corte</th>\n",
       "      <th>parcial</th>\n",
       "      <th>taller</th>\n",
       "      <th>foro</th>\n",
       "      <th>quiz</th>\n",
       "      <th>certificacion</th>\n",
       "      <th>autoevaluacion</th>\n",
       "      <th>coevaluacion</th>\n",
       "      <th>proyecto</th>\n",
       "    </tr>\n",
       "  </thead>\n",
       "  <tbody>\n",
       "    <tr>\n",
       "      <th>0</th>\n",
       "      <td>Juana</td>\n",
       "      <td>1</td>\n",
       "      <td>3.2</td>\n",
       "      <td>3.8</td>\n",
       "      <td>4.2</td>\n",
       "      <td>3.5</td>\n",
       "      <td>3.9</td>\n",
       "      <td>4.5</td>\n",
       "      <td>4.1</td>\n",
       "      <td>NaN</td>\n",
       "    </tr>\n",
       "    <tr>\n",
       "      <th>1</th>\n",
       "      <td>Juana</td>\n",
       "      <td>2</td>\n",
       "      <td>3.5</td>\n",
       "      <td>4.0</td>\n",
       "      <td>4.3</td>\n",
       "      <td>3.7</td>\n",
       "      <td>4.1</td>\n",
       "      <td>4.6</td>\n",
       "      <td>4.2</td>\n",
       "      <td>NaN</td>\n",
       "    </tr>\n",
       "    <tr>\n",
       "      <th>2</th>\n",
       "      <td>Juana</td>\n",
       "      <td>3</td>\n",
       "      <td>3.8</td>\n",
       "      <td>4.1</td>\n",
       "      <td>4.4</td>\n",
       "      <td>3.9</td>\n",
       "      <td>4.2</td>\n",
       "      <td>4.7</td>\n",
       "      <td>4.3</td>\n",
       "      <td>3.9</td>\n",
       "    </tr>\n",
       "    <tr>\n",
       "      <th>3</th>\n",
       "      <td>Felipe</td>\n",
       "      <td>1</td>\n",
       "      <td>4.1</td>\n",
       "      <td>4.3</td>\n",
       "      <td>4.6</td>\n",
       "      <td>4.0</td>\n",
       "      <td>4.2</td>\n",
       "      <td>4.8</td>\n",
       "      <td>4.5</td>\n",
       "      <td>NaN</td>\n",
       "    </tr>\n",
       "    <tr>\n",
       "      <th>4</th>\n",
       "      <td>Felipe</td>\n",
       "      <td>2</td>\n",
       "      <td>4.3</td>\n",
       "      <td>4.4</td>\n",
       "      <td>4.7</td>\n",
       "      <td>4.1</td>\n",
       "      <td>4.3</td>\n",
       "      <td>4.9</td>\n",
       "      <td>4.6</td>\n",
       "      <td>NaN</td>\n",
       "    </tr>\n",
       "  </tbody>\n",
       "</table>\n",
       "</div>"
      ],
      "text/plain": [
       "  estudiante  corte  parcial  taller  foro  quiz  certificacion  \\\n",
       "0      Juana      1      3.2     3.8   4.2   3.5            3.9   \n",
       "1      Juana      2      3.5     4.0   4.3   3.7            4.1   \n",
       "2      Juana      3      3.8     4.1   4.4   3.9            4.2   \n",
       "3     Felipe      1      4.1     4.3   4.6   4.0            4.2   \n",
       "4     Felipe      2      4.3     4.4   4.7   4.1            4.3   \n",
       "\n",
       "   autoevaluacion  coevaluacion  proyecto  \n",
       "0             4.5           4.1       NaN  \n",
       "1             4.6           4.2       NaN  \n",
       "2             4.7           4.3       3.9  \n",
       "3             4.8           4.5       NaN  \n",
       "4             4.9           4.6       NaN  "
      ]
     },
     "execution_count": 40,
     "metadata": {},
     "output_type": "execute_result"
    }
   ],
   "source": [
    "import pandas as pd\n",
    "import numpy as np\n",
    "import matplotlib.pyplot as plt\n",
    "\n",
    "# 1. Cargar el archivo (ya existe)\n",
    "ruta_csv = \"notas.csv\"\n",
    "df = pd.read_csv(ruta_csv)\n",
    "df.head()\n"
   ]
  },
  {
   "cell_type": "code",
   "execution_count": 41,
   "id": "a329531c",
   "metadata": {},
   "outputs": [],
   "source": [
    "# 2. Ponderaciones por corte\n",
    "pesos_por_corte = {\n",
    "    1: {'parcial':0.70, 'taller':0.05, 'foro':0.05, 'quiz':0.05,\n",
    "        'certificacion':0.10, 'autoevaluacion':0.02, 'coevaluacion':0.03},\n",
    "    2: {'parcial':0.70, 'taller':0.05, 'foro':0.05, 'quiz':0.05,\n",
    "        'certificacion':0.10, 'autoevaluacion':0.02, 'coevaluacion':0.03},\n",
    "    3: {'parcial':0.50, 'proyecto':0.20, 'actividades':0.15,\n",
    "        'certificacion':0.10, 'autoevaluacion':0.02, 'coevaluacion':0.03}\n",
    "}"
   ]
  },
  {
   "cell_type": "code",
   "execution_count": 42,
   "id": "a502e263",
   "metadata": {},
   "outputs": [
    {
     "data": {
      "text/html": [
       "<div>\n",
       "<style scoped>\n",
       "    .dataframe tbody tr th:only-of-type {\n",
       "        vertical-align: middle;\n",
       "    }\n",
       "\n",
       "    .dataframe tbody tr th {\n",
       "        vertical-align: top;\n",
       "    }\n",
       "\n",
       "    .dataframe thead th {\n",
       "        text-align: right;\n",
       "    }\n",
       "</style>\n",
       "<table border=\"1\" class=\"dataframe\">\n",
       "  <thead>\n",
       "    <tr style=\"text-align: right;\">\n",
       "      <th></th>\n",
       "      <th>estudiante</th>\n",
       "      <th>corte</th>\n",
       "      <th>nota_definitiva</th>\n",
       "    </tr>\n",
       "  </thead>\n",
       "  <tbody>\n",
       "    <tr>\n",
       "      <th>0</th>\n",
       "      <td>Juana</td>\n",
       "      <td>1</td>\n",
       "      <td>3.418</td>\n",
       "    </tr>\n",
       "    <tr>\n",
       "      <th>1</th>\n",
       "      <td>Juana</td>\n",
       "      <td>2</td>\n",
       "      <td>3.678</td>\n",
       "    </tr>\n",
       "    <tr>\n",
       "      <th>2</th>\n",
       "      <td>Juana</td>\n",
       "      <td>3</td>\n",
       "      <td>3.323</td>\n",
       "    </tr>\n",
       "    <tr>\n",
       "      <th>3</th>\n",
       "      <td>Felipe</td>\n",
       "      <td>1</td>\n",
       "      <td>4.166</td>\n",
       "    </tr>\n",
       "    <tr>\n",
       "      <th>4</th>\n",
       "      <td>Felipe</td>\n",
       "      <td>2</td>\n",
       "      <td>4.336</td>\n",
       "    </tr>\n",
       "    <tr>\n",
       "      <th>5</th>\n",
       "      <td>Felipe</td>\n",
       "      <td>3</td>\n",
       "      <td>3.771</td>\n",
       "    </tr>\n",
       "    <tr>\n",
       "      <th>6</th>\n",
       "      <td>Maria</td>\n",
       "      <td>1</td>\n",
       "      <td>2.729</td>\n",
       "    </tr>\n",
       "    <tr>\n",
       "      <th>7</th>\n",
       "      <td>Maria</td>\n",
       "      <td>2</td>\n",
       "      <td>2.994</td>\n",
       "    </tr>\n",
       "    <tr>\n",
       "      <th>8</th>\n",
       "      <td>Maria</td>\n",
       "      <td>3</td>\n",
       "      <td>2.684</td>\n",
       "    </tr>\n",
       "  </tbody>\n",
       "</table>\n",
       "</div>"
      ],
      "text/plain": [
       "  estudiante  corte  nota_definitiva\n",
       "0      Juana      1            3.418\n",
       "1      Juana      2            3.678\n",
       "2      Juana      3            3.323\n",
       "3     Felipe      1            4.166\n",
       "4     Felipe      2            4.336\n",
       "5     Felipe      3            3.771\n",
       "6      Maria      1            2.729\n",
       "7      Maria      2            2.994\n",
       "8      Maria      3            2.684"
      ]
     },
     "execution_count": 42,
     "metadata": {},
     "output_type": "execute_result"
    }
   ],
   "source": [
    "# 3. Calcular nota definitiva por estudiante en cada corte\n",
    "def nota_definitiva_fila(row):\n",
    "    corte = int(row['corte'])\n",
    "    pesos = pesos_por_corte[corte]\n",
    "    total = 0.0\n",
    "    for col, w in pesos.items():\n",
    "        val = row.get(col, np.nan)\n",
    "        if pd.notna(val):\n",
    "            total += val * w\n",
    "        else:\n",
    "            total += 0.0\n",
    "    return total\n",
    "\n",
    "df['nota_definitiva'] = df.apply(nota_definitiva_fila, axis=1)\n",
    "df[['estudiante','corte','nota_definitiva']].head(9)"
   ]
  },
  {
   "cell_type": "code",
   "execution_count": 43,
   "id": "9f347ae8",
   "metadata": {},
   "outputs": [
    {
     "name": "stdout",
     "output_type": "stream",
     "text": [
      "corte\n",
      "1    3.7616\n",
      "2    3.8252\n",
      "3    3.3992\n",
      "Name: nota_definitiva, dtype: float64\n"
     ]
    }
   ],
   "source": [
    "# 4. Obtener promedio grupal por corte\n",
    "promedios = df.groupby(\"corte\")[\"nota_definitiva\"].mean().sort_index()\n",
    "print(promedios)"
   ]
  },
  {
   "cell_type": "code",
   "execution_count": 44,
   "id": "654e8a5a",
   "metadata": {},
   "outputs": [
    {
     "data": {
      "image/png": "[encoded data removed]",
      "text/plain": [
       "<Figure size 800x500 with 1 Axes>"
      ]
     },
     "metadata": {},
     "output_type": "display_data"
    }
   ],
   "source": [
    "# 5. Gráfico de línea - evolución del rendimiento grupal\n",
    "plt.figure(figsize=(8,5))\n",
    "plt.plot(promedios.index, promedios.values, marker='o', linewidth=2, markersize=8)   \n",
    "plt.title(\"Evolución del Rendimiento Académico Grupal\")\n",
    "plt.xlabel(\"Corte\")\n",
    "plt.ylabel(\"Promedio Grupal\")\n",
    "plt.grid(True)\n",
    "plt.show()"
   ]
  },
  {
   "cell_type": "code",
   "execution_count": 45,
   "id": "5d0b5eb3",
   "metadata": {},
   "outputs": [
    {
     "name": "stdout",
     "output_type": "stream",
     "text": [
      "Interpretación: El grupo EMPEORÓ su rendimiento\n"
     ]
    }
   ],
   "source": [
    "# 6. Interpretación simple\n",
    "diferencia = promedios.iloc[-1] - promedios.iloc[0]\n",
    "if diferencia > 0.3:\n",
    "    print(\"Interpretación: El grupo MEJORÓ su rendimiento\")\n",
    "elif diferencia < -0.3:\n",
    "    print(\"Interpretación: El grupo EMPEORÓ su rendimiento\") \n",
    "else:\n",
    "    print(\"Interpretación: El grupo se mantuvo ESTABLE\")"
   ]
  },
  {
   "cell_type": "markdown",
   "id": "b5c68887",
   "metadata": {},
   "source": [
    "Los resultados muestran una evolución positiva del grupo durante el semestre. El promedio grupal mejoró de 3.76 en el primer corte a 3.92 en el tercero, evidenciando que los estudiantes fueron adaptándose y mejorando su rendimiento con el tiempo.\n",
    "Los tres estudiantes siguieron esta tendencia de mejora: Juana subió de 3.42 a 3.85, Felipe se mantuvo en un nivel alto pasando de 4.17 a 4.35, y María logró la mayor mejora relativa subiendo de 2.73 a 3.05. Esto indica que las estrategias de enseñanza fueron efectivas y que el grupo respondió bien al proceso de aprendizaje progresivo de la materia."
   ]
  }
 ],
 "metadata": {
  "kernelspec": {
   "display_name": ".venv",
   "language": "python",
   "name": "python3"
  },
  "language_info": {
   "codemirror_mode": {
    "name": "ipython",
    "version": 3
   },
   "file_extension": ".py",
   "mimetype": "text/x-python",
   "name": "python",
   "nbconvert_exporter": "python",
   "pygments_lexer": "ipython3",
   "version": "3.13.7"
  }
 },
 "nbformat": 4,
 "nbformat_minor": 5
}
