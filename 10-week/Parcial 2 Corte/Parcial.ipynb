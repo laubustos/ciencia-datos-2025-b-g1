{
 "cells": [
  {
   "cell_type": "markdown",
   "id": "2e6725a5-b721-4355-9323-2d13e579e668",
   "metadata": {},
   "source": [
    "# Ejercicio 7 – Desempeño por grupo  \n",
    "### Planteamiento del ejercicio\n",
    "\n",
    "**Selección del ejercicio:**  \n",
    "Se seleccionó el **Ejercicio 7 – Desempeño por grupo**, cuyo objetivo principal es **comparar el rendimiento académico de varios grupos de estudiantes** mediante el análisis de variables numéricas (notas finales).  \n",
    "\n",
    "Para este desarrollo, se realizó una **simulación de datos** distribuidos en **seis hojas independientes** dentro de un archivo de Excel llamado `notas_grupo_simple.xlsx`.  \n",
    "Cada hoja representa una parte distinta e independiente de la información necesaria para el análisis:\n",
    "\n",
    "1. **Datos_Grupos:** contiene las notas individuales de los estudiantes de tres grupos (A, B y C).  \n",
    "2. **Promedios:** presenta el promedio general por grupo.  \n",
    "3. **Medianas:** muestra la mediana de notas por grupo.  \n",
    "4. **Desviaciones:** incluye la desviación estándar de cada grupo, útil para medir la variabilidad.  \n",
    "5. **Notas_Mínimas:** registra la nota mínima alcanzada en cada grupo.  \n",
    "6. **Notas_Máximas:** detalla la nota máxima obtenida por grupo.  \n",
    "\n",
    "El propósito de esta estructura es simular un escenario real de análisis educativo, donde los datos pueden estar distribuidos en diferentes fuentes o reportes.  \n",
    "El análisis posterior busca identificar **tendencias de desempeño**, **comparar resultados entre grupos** y **detectar oportunidades de mejora académica**.  \n"
   ]
  },
  {
   "cell_type": "code",
   "execution_count": 9,
   "id": "cb5ffaad",
   "metadata": {},
   "outputs": [
    {
     "name": "stdout",
     "output_type": "stream",
     "text": [
      "📘 Hojas disponibles en el archivo:\n",
      "['Datos_Grupos', 'Estadisticas_Grupo', 'Distribucion_Notas', 'Comparacion_General', 'Validaciones', 'Boxplot_Resultados']\n",
      "\n",
      "✅ Vista previa de los datos:\n"
     ]
    },
    {
     "data": {
      "text/html": [
       "<div>\n",
       "<style scoped>\n",
       "    .dataframe tbody tr th:only-of-type {\n",
       "        vertical-align: middle;\n",
       "    }\n",
       "\n",
       "    .dataframe tbody tr th {\n",
       "        vertical-align: top;\n",
       "    }\n",
       "\n",
       "    .dataframe thead th {\n",
       "        text-align: right;\n",
       "    }\n",
       "</style>\n",
       "<table border=\"1\" class=\"dataframe\">\n",
       "  <thead>\n",
       "    <tr style=\"text-align: right;\">\n",
       "      <th></th>\n",
       "      <th>ID</th>\n",
       "      <th>Grupo</th>\n",
       "      <th>Nota</th>\n",
       "    </tr>\n",
       "  </thead>\n",
       "  <tbody>\n",
       "    <tr>\n",
       "      <th>0</th>\n",
       "      <td>1</td>\n",
       "      <td>A</td>\n",
       "      <td>3.12</td>\n",
       "    </tr>\n",
       "    <tr>\n",
       "      <th>1</th>\n",
       "      <td>2</td>\n",
       "      <td>A</td>\n",
       "      <td>4.85</td>\n",
       "    </tr>\n",
       "    <tr>\n",
       "      <th>2</th>\n",
       "      <td>3</td>\n",
       "      <td>A</td>\n",
       "      <td>4.20</td>\n",
       "    </tr>\n",
       "    <tr>\n",
       "      <th>3</th>\n",
       "      <td>4</td>\n",
       "      <td>A</td>\n",
       "      <td>3.80</td>\n",
       "    </tr>\n",
       "    <tr>\n",
       "      <th>4</th>\n",
       "      <td>5</td>\n",
       "      <td>A</td>\n",
       "      <td>2.47</td>\n",
       "    </tr>\n",
       "  </tbody>\n",
       "</table>\n",
       "</div>"
      ],
      "text/plain": [
       "   ID Grupo  Nota\n",
       "0   1     A  3.12\n",
       "1   2     A  4.85\n",
       "2   3     A  4.20\n",
       "3   4     A  3.80\n",
       "4   5     A  2.47"
      ]
     },
     "metadata": {},
     "output_type": "display_data"
    },
    {
     "name": "stdout",
     "output_type": "stream",
     "text": [
      "\n",
      "📈 Estadísticas por grupo:\n"
     ]
    },
    {
     "data": {
      "text/html": [
       "<div>\n",
       "<style scoped>\n",
       "    .dataframe tbody tr th:only-of-type {\n",
       "        vertical-align: middle;\n",
       "    }\n",
       "\n",
       "    .dataframe tbody tr th {\n",
       "        vertical-align: top;\n",
       "    }\n",
       "\n",
       "    .dataframe thead th {\n",
       "        text-align: right;\n",
       "    }\n",
       "</style>\n",
       "<table border=\"1\" class=\"dataframe\">\n",
       "  <thead>\n",
       "    <tr style=\"text-align: right;\">\n",
       "      <th></th>\n",
       "      <th>Promedio</th>\n",
       "      <th>Mediana</th>\n",
       "      <th>Desv_Estandar</th>\n",
       "      <th>Nota_Minima</th>\n",
       "      <th>Nota_Maxima</th>\n",
       "    </tr>\n",
       "    <tr>\n",
       "      <th>Grupo</th>\n",
       "      <th></th>\n",
       "      <th></th>\n",
       "      <th></th>\n",
       "      <th></th>\n",
       "      <th></th>\n",
       "    </tr>\n",
       "  </thead>\n",
       "  <tbody>\n",
       "    <tr>\n",
       "      <th>A</th>\n",
       "      <td>3.56</td>\n",
       "      <td>3.80</td>\n",
       "      <td>0.95</td>\n",
       "      <td>2.17</td>\n",
       "      <td>4.85</td>\n",
       "    </tr>\n",
       "    <tr>\n",
       "      <th>B</th>\n",
       "      <td>3.19</td>\n",
       "      <td>2.89</td>\n",
       "      <td>0.91</td>\n",
       "      <td>2.06</td>\n",
       "      <td>4.91</td>\n",
       "    </tr>\n",
       "    <tr>\n",
       "      <th>C</th>\n",
       "      <td>3.20</td>\n",
       "      <td>3.24</td>\n",
       "      <td>0.70</td>\n",
       "      <td>2.14</td>\n",
       "      <td>4.36</td>\n",
       "    </tr>\n",
       "  </tbody>\n",
       "</table>\n",
       "</div>"
      ],
      "text/plain": [
       "       Promedio  Mediana  Desv_Estandar  Nota_Minima  Nota_Maxima\n",
       "Grupo                                                            \n",
       "A          3.56     3.80           0.95         2.17         4.85\n",
       "B          3.19     2.89           0.91         2.06         4.91\n",
       "C          3.20     3.24           0.70         2.14         4.36"
      ]
     },
     "metadata": {},
     "output_type": "display_data"
    },
    {
     "data": {
      "text/plain": [
       "<Figure size 800x500 with 0 Axes>"
      ]
     },
     "metadata": {},
     "output_type": "display_data"
    },
    {
     "data": {
      "image/png": "[encoded data removed]",
      "text/plain": [
       "<Figure size 800x500 with 1 Axes>"
      ]
     },
     "metadata": {},
     "output_type": "display_data"
    },
    {
     "data": {
      "image/png": "[encoded data removed]",
      "text/plain": [
       "<Figure size 800x500 with 1 Axes>"
      ]
     },
     "metadata": {},
     "output_type": "display_data"
    },
    {
     "data": {
      "image/png": "[encoded data removed]",
      "text/plain": [
       "<Figure size 800x500 with 1 Axes>"
      ]
     },
     "metadata": {},
     "output_type": "display_data"
    },
    {
     "name": "stdout",
     "output_type": "stream",
     "text": [
      "📊 Conclusiones:\n",
      "- El grupo con mejor desempeño promedio es **A**.\n",
      "- El grupo con menor desempeño promedio es **B**.\n",
      "- La dispersión de las notas se puede observar en el boxplot para analizar consistencia o variabilidad.\n",
      "- En contextos reales, estos resultados ayudan a identificar oportunidades de mejora o refuerzo académico.\n"
     ]
    }
   ],
   "source": [
    "# Ejercicio 7 – Desempeño por grupo\n",
    "# Análisis de datos simulados con Pandas\n",
    "\n",
    "# Importar librerías\n",
    "import pandas as pd\n",
    "import matplotlib.pyplot as plt\n",
    "import numpy as np\n",
    "\n",
    "\n",
    "\n",
    "# 1. Lectura del archivo Excel\n",
    "# Asegúrate de tener el archivo \"notas_grupo_simple.xlsx\" en la misma carpeta del notebook\n",
    "archivo = \"notas_grupo_simple.xlsx\"\n",
    "xls = pd.ExcelFile(archivo)\n",
    "\n",
    "# Mostrar nombres de hojas\n",
    "print(\"Hojas disponibles en el archivo:\")\n",
    "print(xls.sheet_names)\n",
    "\n",
    "# Leer los datos principales\n",
    "df = pd.read_excel(xls, sheet_name=\"Datos_Grupos\")\n",
    "print(\"\\n Vista previa de los datos:\")\n",
    "display(df.head())\n",
    "\n",
    "# 2. Procesamiento de los datos\n",
    "# Calcular estadísticas por grupo\n",
    "estadisticas = df.groupby(\"Grupo\")[\"Nota\"].agg(\n",
    "    Promedio=\"mean\",\n",
    "    Mediana=\"median\",\n",
    "    Desv_Estandar=\"std\",\n",
    "    Nota_Minima=\"min\",\n",
    "    Nota_Maxima=\"max\"\n",
    ").round(2)\n",
    "\n",
    "print(\"\\n Estadísticas por grupo:\")\n",
    "display(estadisticas)\n",
    "\n",
    "# 3. Visualizaciones\n",
    "\n",
    "# 3.1 Boxplot comparando grupos\n",
    "plt.figure()\n",
    "df.boxplot(column=\"Nota\", by=\"Grupo\", grid=False, color=\"blue\")\n",
    "plt.title(\"Distribución de notas por grupo\")\n",
    "plt.suptitle(\"\")  # elimina el título duplicado automático\n",
    "plt.xlabel(\"Grupo\")\n",
    "plt.ylabel(\"Nota\")\n",
    "plt.show()\n",
    "\n",
    "# 3.2 Promedio de notas por grupo (barras)\n",
    "plt.figure()\n",
    "estadisticas[\"Promedio\"].plot(kind=\"bar\", color=[\"#1f77b4\", \"#2ca02c\", \"#ff7f0e\"])\n",
    "plt.title(\"Promedio de notas por grupo\")\n",
    "plt.ylabel(\"Promedio\")\n",
    "plt.xlabel(\"Grupo\")\n",
    "plt.ylim(0, 5)\n",
    "plt.show()\n",
    "\n",
    "# 3.3 Histograma general de notas\n",
    "plt.figure()\n",
    "plt.hist(df[\"Nota\"], bins=8, color=\"#4c72b0\", edgecolor=\"black\")\n",
    "plt.title(\"Distribución general de notas\")\n",
    "plt.xlabel(\"Nota\")\n",
    "plt.ylabel(\"Frecuencia\")\n",
    "plt.show()\n",
    "\n",
    "# 4. Conclusiones automáticas\n",
    "mejor_grupo = estadisticas[\"Promedio\"].idxmax()\n",
    "peor_grupo = estadisticas[\"Promedio\"].idxmin()\n",
    "\n",
    "print(\"📊 Conclusiones:\")\n",
    "print(f\"- El grupo con mejor desempeño promedio es **{mejor_grupo}**.\")\n",
    "print(f\"- El grupo con menor desempeño promedio es **{peor_grupo}**.\")\n",
    "print(\"- La dispersión de las notas se puede observar en el boxplot para analizar consistencia o variabilidad.\")\n",
    "print(\"- En contextos reales, estos resultados ayudan a identificar oportunidades de mejora o refuerzo académico.\")\n",
    "\n"
   ]
  },
  {
   "cell_type": "code",
   "execution_count": null,
   "id": "28f85276-4d40-424d-ab2c-85d807914d8f",
   "metadata": {},
   "outputs": [],
   "source": []
  }
 ],
 "metadata": {
  "kernelspec": {
   "display_name": "Python 3.12 (Jupyter)",
   "language": "python",
   "name": "py312"
  },
  "language_info": {
   "codemirror_mode": {
    "name": "ipython",
    "version": 3
   },
   "file_extension": ".py",
   "mimetype": "text/x-python",
   "name": "python",
   "nbconvert_exporter": "python",
   "pygments_lexer": "ipython3",
   "version": "3.12.6"
  }
 },
 "nbformat": 4,
 "nbformat_minor": 5
}
